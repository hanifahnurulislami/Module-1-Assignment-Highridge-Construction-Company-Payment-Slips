import csv
import random
from pathlib import Path

# List of first names
first_names = [
    "James", "Mary", "Robert", "Patricia", "John", "Jennifer", "Michael", "Linda", "David", "Elizabeth",
    "William", "Susan", "Richard", "Jessica", "Charles", "Sarah", "Joseph", "Karen", "Thomas", "Nancy"
]

# List of last names
last_names = [
    "Smith", "Johnson", "Williams", "Brown", "Jones", "Garcia", "Miller", "Davis", "Rodriguez", "Martinez",
    "Hernandez", "Lopez", "Gonzalez", "Wilson", "Anderson", "Thomas", "Taylor", "Moore", "Jackson", "Martin",
    "Lee", "Perez", "Thompson", "White", "Harris", "Sanchez", "Clark", "Ramirez", "Lewis", "Robinson",
    "Walker", "Young", "Allen", "King", "Wright", "Scott", "Torres", "Nguyen", "Hill", "Flores",
    "Green", "Adams", "Nelson", "Baker", "Hall", "Rivera", "Campbell", "Mitchell", "Carter", "Roberts"
]

# List of possible job positions
positions = [
    "Engineer", "Supervisor", "Technician", "Project Manager", "Architect",
    "Accountant", "HR Specialist", "Safety Officer", "Foreman", "Administrator"
]

# Setup output directory with error handling
try:
    output_dir = Path("highridge_output")
    output_dir.mkdir(parents=True, exist_ok=True)
except Exception as e:
    print(f"❌ Failed to create output directory: {e}")

# Generate 1000 unique names (20 first names × 50 last names)
all_names = [f"{fn} {ln}" for fn in first_names for ln in last_names]

# Function to assign gender based on first name
def assign_gender(name):
    female_names = {"Mary", "Patricia", "Jennifer", "Linda", "Elizabeth", "Susan", "Jessica", "Sarah", "Karen", "Nancy"}
    return "Female" if name.split()[0] in female_names else "Male"

# Function to assign employee level
def assign_level(salary, gender):
    try:
        if 10000 < salary < 20000:
            return "A1"
        elif 7500 < salary < 30000 and gender == "Female":
            return "A5-F"
        elif salary <= 7500:
            return "B1"
        elif salary >= 30000:
            return "B2"
        else:
            return "B3"
    except Exception as e:
        print(f"⚠️ Error assigning level: {e}")
        return "Unknown"

# Create worker data
workers = []
try:
    for i, name in enumerate(all_names, start=1):
        gender = assign_gender(name)
        salary = random.randint(3000, 35000)
        level = assign_level(salary, gender)
        position = random.choice(positions)
        workers.append({
            "WorkerID": f"W{i:04d}",
            "Name": name,
            "Gender": gender,
            "Position": position,
            "Salary": salary,
            "Level": level,
            "Company": "Highridge Construction Company"
        })
except Exception as e:
    print(f"❌ Error generating worker data: {e}")

# Save worker data to CSV with error handling
csv_file = output_dir / "workers_with_levels.csv"
try:
    with open(csv_file, mode="w", newline="") as file:
        writer = csv.DictWriter(file, fieldnames=workers[0].keys())
        writer.writeheader()
        writer.writerows(workers)
    print(f"✅ Worker data saved to: {csv_file}")
except Exception as e:
    print(f"❌ Failed to save CSV: {e}")

# Generate individual payment slips with error handling
slip_dir = output_dir / "slips"
try:
    slip_dir.mkdir(parents=True, exist_ok=True)
    for worker in workers:
        try:
            slip_text = (
                f"Company: {worker['Company']}\n"
                f"Worker ID: {worker['WorkerID']}\n"
                f"Name: {worker['Name']}\n"
                f"Gender: {worker['Gender']}\n"
                f"Position: {worker['Position']}\n"
                f"Salary: ${worker['Salary']}\n"
                f"Level: {worker['Level']}\n"
                "-----------------------------\n"
            )
            slip_file = slip_dir / f"{worker['WorkerID']}_slip.txt"
            with open(slip_file, "w") as f:
                f.write(slip_text)
        except Exception as e:
            print(f"⚠️ Failed to create slip for {worker['WorkerID']}: {e}")
    print(f"✅ Payment slips generated in folder: {slip_dir}")
except Exception as e:
    print(f"❌ Failed to create slip directory: {e}")
